{
 "cells": [
  {
   "cell_type": "code",
   "execution_count": 1,
   "metadata": {},
   "outputs": [],
   "source": [
    "import os"
   ]
  },
  {
   "cell_type": "code",
   "execution_count": 2,
   "metadata": {},
   "outputs": [
    {
     "data": {
      "text/plain": [
       "'c:\\\\Users\\\\USER\\\\Documents\\\\JupyterNB\\\\ineuron\\\\Python Advanced\\\\Sentiment_Analysis_Project\\\\research'"
      ]
     },
     "execution_count": 2,
     "metadata": {},
     "output_type": "execute_result"
    }
   ],
   "source": [
    "%pwd"
   ]
  },
  {
   "cell_type": "code",
   "execution_count": 3,
   "metadata": {},
   "outputs": [
    {
     "data": {
      "text/plain": [
       "'c:\\\\Users\\\\USER\\\\Documents\\\\JupyterNB\\\\ineuron\\\\Python Advanced\\\\Sentiment_Analysis_Project'"
      ]
     },
     "execution_count": 3,
     "metadata": {},
     "output_type": "execute_result"
    }
   ],
   "source": [
    "os.chdir('../')\n",
    "%pwd"
   ]
  },
  {
   "cell_type": "code",
   "execution_count": 4,
   "metadata": {},
   "outputs": [],
   "source": [
    "from src.sentimentAnalysis.utils.common_functionality import load_object, text_preprocessing, sent_to_vector\n",
    "from gensim.utils import simple_preprocess\n",
    "import os\n",
    "\n",
    "\n",
    "class PredictionPipeline:\n",
    "    def __init__(self, text):\n",
    "        self.text = text\n",
    "\n",
    "\n",
    "    def predict(self):\n",
    "        model = load_object(os.path.join(\"artifacts\",\"model_building\",\"trained_model.pkl\"))\n",
    "        word2vec = load_object(os.path.join(\"artifacts\",\"data_processing\",\"word2vec.pkl\"))\n",
    "        preprocessed_text = text_preprocessing(self.text)\n",
    "        list_of_tokens = simple_preprocess(preprocessed_text)\n",
    "        vector = sent_to_vector(word2vec,list_of_tokens)\n",
    "\n",
    "        vector = vector.reshape(1,1,len(vector))\n",
    "\n",
    "        predicted_value = model.predict(vector)\n",
    "\n",
    "        return predicted_value\n",
    "\n"
   ]
  },
  {
   "cell_type": "code",
   "execution_count": 14,
   "metadata": {},
   "outputs": [],
   "source": [
    "pred_pipeline = PredictionPipeline(\"This is a boring movie\")"
   ]
  },
  {
   "cell_type": "code",
   "execution_count": 15,
   "metadata": {},
   "outputs": [
    {
     "name": "stdout",
     "output_type": "stream",
     "text": [
      "[2023-07-13 16:53:13,844: WARNING: polymorphic_function: 6 out of the last 6 calls to <function Model.make_predict_function.<locals>.predict_function at 0x0000024D1AF349D0> triggered tf.function retracing. Tracing is expensive and the excessive number of tracings could be due to (1) creating @tf.function repeatedly in a loop, (2) passing tensors with different shapes, (3) passing Python objects instead of tensors. For (1), please define your @tf.function outside of the loop. For (2), @tf.function has reduce_retracing=True option that can avoid unnecessary retracing. For (3), please refer to https://www.tensorflow.org/guide/function#controlling_retracing and https://www.tensorflow.org/api_docs/python/tf/function for  more details.]\n",
      "1/1 [==============================] - 1s 894ms/step\n"
     ]
    }
   ],
   "source": [
    "x= pred_pipeline.predict()[0][0]"
   ]
  },
  {
   "cell_type": "code",
   "execution_count": 17,
   "metadata": {},
   "outputs": [
    {
     "data": {
      "text/plain": [
       "0.009432634396944195"
      ]
     },
     "execution_count": 17,
     "metadata": {},
     "output_type": "execute_result"
    }
   ],
   "source": [
    "x*100"
   ]
  },
  {
   "cell_type": "code",
   "execution_count": null,
   "metadata": {},
   "outputs": [],
   "source": []
  }
 ],
 "metadata": {
  "kernelspec": {
   "display_name": "sentimentenv",
   "language": "python",
   "name": "python3"
  },
  "language_info": {
   "codemirror_mode": {
    "name": "ipython",
    "version": 3
   },
   "file_extension": ".py",
   "mimetype": "text/x-python",
   "name": "python",
   "nbconvert_exporter": "python",
   "pygments_lexer": "ipython3",
   "version": "3.8.17"
  },
  "orig_nbformat": 4
 },
 "nbformat": 4,
 "nbformat_minor": 2
}
