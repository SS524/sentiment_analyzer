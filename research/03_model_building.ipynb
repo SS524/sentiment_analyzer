{
 "cells": [
  {
   "cell_type": "code",
   "execution_count": 1,
   "metadata": {},
   "outputs": [],
   "source": [
    "import os"
   ]
  },
  {
   "cell_type": "code",
   "execution_count": 2,
   "metadata": {},
   "outputs": [
    {
     "data": {
      "text/plain": [
       "'c:\\\\Users\\\\USER\\\\Documents\\\\JupyterNB\\\\ineuron\\\\Python Advanced\\\\Sentiment_Analysis_Project\\\\research'"
      ]
     },
     "execution_count": 2,
     "metadata": {},
     "output_type": "execute_result"
    }
   ],
   "source": [
    "%pwd"
   ]
  },
  {
   "cell_type": "code",
   "execution_count": 3,
   "metadata": {},
   "outputs": [
    {
     "data": {
      "text/plain": [
       "'c:\\\\Users\\\\USER\\\\Documents\\\\JupyterNB\\\\ineuron\\\\Python Advanced\\\\Sentiment_Analysis_Project'"
      ]
     },
     "execution_count": 3,
     "metadata": {},
     "output_type": "execute_result"
    }
   ],
   "source": [
    "os.chdir('../')\n",
    "%pwd"
   ]
  },
  {
   "cell_type": "code",
   "execution_count": 4,
   "metadata": {},
   "outputs": [],
   "source": [
    "from dataclasses import dataclass\n",
    "from pathlib import Path\n",
    "\n",
    "\n",
    "@dataclass(frozen=True)\n",
    "class ModelBuildingConfig:\n",
    "    root_dir: Path\n",
    "    base_modl_file: Path\n",
    "    trained_modl_file: Path\n",
    "    test_data_file: Path\n",
    "    number_of_neurons_in_first_layer: int\n",
    "    number_of_neurons_in_second_layer: int\n",
    "    number_of_neurons_in_output_layer: int\n",
    "    metrics: str\n",
    "    learning_rate: float\n",
    "    epochs: int\n",
    "\n",
    "    \n",
    "\n"
   ]
  },
  {
   "cell_type": "code",
   "execution_count": 5,
   "metadata": {},
   "outputs": [],
   "source": [
    "from src.sentimentAnalysis.constants import *\n",
    "from src.sentimentAnalysis.utils.common_functionality import read_yaml, create_directories"
   ]
  },
  {
   "cell_type": "code",
   "execution_count": 6,
   "metadata": {},
   "outputs": [],
   "source": [
    "class ConfigurationManager:\n",
    "    def __init__(\n",
    "        self,\n",
    "        config_filepath = CONFIG_FILE_PATH,\n",
    "        params_filepath = PARAMS_FILE_PATH):\n",
    "\n",
    "        self.config = read_yaml(config_filepath)\n",
    "        self.params = read_yaml(params_filepath)\n",
    "\n",
    "        create_directories([self.config.artifacts_root])\n",
    "\n",
    "\n",
    "    \n",
    "    def get_model_building_config(self) -> ModelBuildingConfig:\n",
    "        config = self.config.model_building\n",
    "\n",
    "        create_directories([config.root_dir])\n",
    "\n",
    "        model_building_config = ModelBuildingConfig(\n",
    "            root_dir = config.root_dir,\n",
    "            base_modl_file = config.base_modl_file,\n",
    "            trained_modl_file = config.trained_modl_file,\n",
    "            test_data_file = config.test_data_file,\n",
    "            number_of_neurons_in_first_layer = self.params.NUMBER_OF_NEURONS_IN_FIRST_LAYER,\n",
    "            number_of_neurons_in_second_layer = self.params.NUMBER_OF_NEURONS_IN_SECOND_LAYER,\n",
    "            number_of_neurons_in_output_layer = self.params.NUMBER_OF_NEURONS_IN_OUTPUT_LAYER,\n",
    "            metrics = self.params.METRICS,\n",
    "            learning_rate = self.params.LEARNING_RATE,\n",
    "            epochs = self.params.EPOCHS\n",
    "\n",
    "            \n",
    "        )\n",
    "\n",
    "        return model_building_config"
   ]
  },
  {
   "cell_type": "code",
   "execution_count": 7,
   "metadata": {},
   "outputs": [],
   "source": [
    "from tensorflow import keras\n",
    "from keras.models import Sequential\n",
    "from keras.layers import Dense\n",
    "from keras.layers import LSTM\n",
    "from sklearn.model_selection import train_test_split\n",
    "from src.sentimentAnalysis.utils.common_functionality import load_object, save_object, get_size\n",
    "from src.sentimentAnalysis import logger"
   ]
  },
  {
   "cell_type": "code",
   "execution_count": 8,
   "metadata": {},
   "outputs": [],
   "source": [
    "class ModelBuilding:\n",
    "    def __init__(self, config: ModelBuildingConfig):\n",
    "        self.config = config\n",
    "\n",
    "\n",
    "    \n",
    "    def prepare_base_model(self):\n",
    "        if not os.path.exists(self.config.base_modl_file):\n",
    "            model = Sequential()\n",
    "\n",
    "            model.add(LSTM(self.config.number_of_neurons_in_first_layer, input_shape = (1,100), return_sequences = True))\n",
    "            model.add(LSTM(self.config.number_of_neurons_in_second_layer))\n",
    "            model.add(Dense(self.config.number_of_neurons_in_output_layer, activation = 'sigmoid'))\n",
    "\n",
    "            print(model.summary())\n",
    "\n",
    "            loss = keras.losses.BinaryCrossentropy(from_logits = True)\n",
    "            opt = keras.optimizers.Adam(learning_rate=self.config.learning_rate)\n",
    "            metrices = [self.config.metrics]\n",
    "\n",
    "            model.compile(loss=loss,optimizer=opt,metrics=metrices)\n",
    "            logger.info(\"Model comiplation is done\")\n",
    "\n",
    "            save_object(self.config.base_modl_file,model)\n",
    "            logger.info(\"Base model is saved\")\n",
    "\n",
    "\n",
    "        else:\n",
    "            logger.info(f\"File already exists of size: {get_size(Path(self.config.local_data_file))}\")\n",
    "\n",
    "\n",
    "\n",
    "    def train_model(self,final_data_path):\n",
    "        if not os.path.exists(self.config.trained_modl_file):\n",
    "            \n",
    "            final_data_for_training = load_object(final_data_path)\n",
    "\n",
    "            X = final_data_for_training['X']\n",
    "            y = final_data_for_training['y']\n",
    "\n",
    "            X = X.reshape(X.shape[0],1,X.shape[1])\n",
    "            y = y.reshape(-1,1)\n",
    "\n",
    "            X_train, X_test, y_train, y_test = train_test_split(X,y,test_size=0.2,random_state=42)\n",
    "\n",
    "            base_model = load_object(self.config.base_modl_file)\n",
    "\n",
    "            base_model.fit(x=X_train,y=y_train,epochs=self.config.epochs)\n",
    "            logger.info(\"Model training completed\")\n",
    "\n",
    "            save_object(self.config.trained_modl_file, base_model)\n",
    "            logger.info(\"trained model is saved\")\n",
    "\n",
    "            test_data = {\n",
    "                'X_test': X_test,\n",
    "                'y_test': y_test\n",
    "            }\n",
    "\n",
    "            save_object(self.config.test_data_file, test_data)\n",
    "            logger.info(\"test data saved for evaluation phase\")\n",
    "\n",
    "        else:\n",
    "            logger.info(f\"File already exists of size: {get_size(Path(self.config.local_data_file))}\")\n",
    "            \n"
   ]
  },
  {
   "cell_type": "code",
   "execution_count": 9,
   "metadata": {},
   "outputs": [
    {
     "name": "stdout",
     "output_type": "stream",
     "text": [
      "[2023-07-13 09:22:28,338: INFO: common_functionality: yaml file: config\\config.yaml loaded successfully]\n",
      "[2023-07-13 09:22:28,406: INFO: common_functionality: yaml file: params.yaml loaded successfully]\n",
      "[2023-07-13 09:22:28,415: INFO: common_functionality: created directory at: artifacts]\n",
      "[2023-07-13 09:22:28,433: INFO: common_functionality: created directory at: artifacts/model_building]\n",
      "Model: \"sequential\"\n",
      "_________________________________________________________________\n",
      " Layer (type)                Output Shape              Param #   \n",
      "=================================================================\n",
      " lstm (LSTM)                 (None, 1, 128)            117248    \n",
      "                                                                 \n",
      " lstm_1 (LSTM)               (None, 256)               394240    \n",
      "                                                                 \n",
      " dense (Dense)               (None, 1)                 257       \n",
      "                                                                 \n",
      "=================================================================\n",
      "Total params: 511745 (1.95 MB)\n",
      "Trainable params: 511745 (1.95 MB)\n",
      "Non-trainable params: 0 (0.00 Byte)\n",
      "_________________________________________________________________\n",
      "None\n",
      "[2023-07-13 09:22:30,615: INFO: 3232696556: Model comiplation is done]\n",
      "[2023-07-13 09:22:31,255: INFO: 3232696556: Base model is saved]\n",
      "[2023-07-13 09:22:33,320: WARNING: optimizer: Skipping variable loading for optimizer 'Adam', because it has 17 variables whereas the saved optimizer has 1 variables. ]\n",
      "Epoch 1/7\n"
     ]
    },
    {
     "name": "stderr",
     "output_type": "stream",
     "text": [
      "c:\\Users\\USER\\anaconda3\\envs\\sentimentenv\\lib\\site-packages\\keras\\src\\backend.py:5805: UserWarning: \"`binary_crossentropy` received `from_logits=True`, but the `output` argument was produced by a Sigmoid activation and thus does not represent logits. Was this intended?\n",
      "  output, from_logits = _get_logits(\n"
     ]
    },
    {
     "name": "stdout",
     "output_type": "stream",
     "text": [
      "1240/1240 [==============================] - 25s 14ms/step - loss: 0.3536 - accuracy: 0.8469\n",
      "Epoch 2/7\n",
      "1240/1240 [==============================] - 17s 14ms/step - loss: 0.3292 - accuracy: 0.8574\n",
      "Epoch 3/7\n",
      "1240/1240 [==============================] - 17s 14ms/step - loss: 0.3226 - accuracy: 0.8615\n",
      "Epoch 4/7\n",
      "1240/1240 [==============================] - 17s 14ms/step - loss: 0.3170 - accuracy: 0.8635\n",
      "Epoch 5/7\n",
      "1240/1240 [==============================] - 17s 14ms/step - loss: 0.3121 - accuracy: 0.8642\n",
      "Epoch 6/7\n",
      "1240/1240 [==============================] - 17s 14ms/step - loss: 0.3073 - accuracy: 0.8670\n",
      "Epoch 7/7\n",
      "1240/1240 [==============================] - 17s 14ms/step - loss: 0.3017 - accuracy: 0.8700\n",
      "[2023-07-13 09:24:42,425: INFO: 3232696556: Model training completed]\n",
      "[2023-07-13 09:24:42,751: INFO: 3232696556: trained model is saved]\n"
     ]
    }
   ],
   "source": [
    "try:\n",
    "    config = ConfigurationManager()\n",
    "    \n",
    "    model_building_config = config.get_model_building_config()\n",
    "    model_building = ModelBuilding(config=model_building_config)\n",
    "    model_building.prepare_base_model()\n",
    "    model_building.train_model(config.config.data_processing.final_data_file)\n",
    "   \n",
    "except Exception as e:\n",
    "    raise e"
   ]
  },
  {
   "cell_type": "code",
   "execution_count": null,
   "metadata": {},
   "outputs": [],
   "source": []
  }
 ],
 "metadata": {
  "kernelspec": {
   "display_name": "sentimentenv",
   "language": "python",
   "name": "python3"
  },
  "language_info": {
   "codemirror_mode": {
    "name": "ipython",
    "version": 3
   },
   "file_extension": ".py",
   "mimetype": "text/x-python",
   "name": "python",
   "nbconvert_exporter": "python",
   "pygments_lexer": "ipython3",
   "version": "3.8.17"
  },
  "orig_nbformat": 4
 },
 "nbformat": 4,
 "nbformat_minor": 2
}
